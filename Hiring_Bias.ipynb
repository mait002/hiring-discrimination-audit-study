{
 "cells": [
  {
   "cell_type": "code",
   "execution_count": 2,
   "id": "204f3d32-3302-4413-9866-4fb087ac92ac",
   "metadata": {},
   "outputs": [],
   "source": [
    "import pandas as pd\n"
   ]
  },
  {
   "cell_type": "code",
   "execution_count": 3,
   "id": "55fe9d52-d26c-4de0-a8c0-718a115ca2c2",
   "metadata": {},
   "outputs": [],
   "source": [
    "df = pd.read_stata(\"lakisha_aer.dta\")"
   ]
  },
  {
   "cell_type": "code",
   "execution_count": 4,
   "id": "f24ff384-388c-466f-8c48-d48a4429d237",
   "metadata": {},
   "outputs": [
    {
     "data": {
      "text/html": [
       "<div>\n",
       "<style scoped>\n",
       "    .dataframe tbody tr th:only-of-type {\n",
       "        vertical-align: middle;\n",
       "    }\n",
       "\n",
       "    .dataframe tbody tr th {\n",
       "        vertical-align: top;\n",
       "    }\n",
       "\n",
       "    .dataframe thead th {\n",
       "        text-align: right;\n",
       "    }\n",
       "</style>\n",
       "<table border=\"1\" class=\"dataframe\">\n",
       "  <thead>\n",
       "    <tr style=\"text-align: right;\">\n",
       "      <th></th>\n",
       "      <th>id</th>\n",
       "      <th>ad</th>\n",
       "      <th>education</th>\n",
       "      <th>ofjobs</th>\n",
       "      <th>yearsexp</th>\n",
       "      <th>honors</th>\n",
       "      <th>volunteer</th>\n",
       "      <th>military</th>\n",
       "      <th>empholes</th>\n",
       "      <th>occupspecific</th>\n",
       "      <th>...</th>\n",
       "      <th>compreq</th>\n",
       "      <th>orgreq</th>\n",
       "      <th>manuf</th>\n",
       "      <th>transcom</th>\n",
       "      <th>bankreal</th>\n",
       "      <th>trade</th>\n",
       "      <th>busservice</th>\n",
       "      <th>othservice</th>\n",
       "      <th>missind</th>\n",
       "      <th>ownership</th>\n",
       "    </tr>\n",
       "  </thead>\n",
       "  <tbody>\n",
       "    <tr>\n",
       "      <th>0</th>\n",
       "      <td>b</td>\n",
       "      <td>1</td>\n",
       "      <td>4</td>\n",
       "      <td>2</td>\n",
       "      <td>6</td>\n",
       "      <td>0</td>\n",
       "      <td>0</td>\n",
       "      <td>0</td>\n",
       "      <td>1</td>\n",
       "      <td>17</td>\n",
       "      <td>...</td>\n",
       "      <td>1.0</td>\n",
       "      <td>0.0</td>\n",
       "      <td>1.0</td>\n",
       "      <td>0.0</td>\n",
       "      <td>0.0</td>\n",
       "      <td>0.0</td>\n",
       "      <td>0.0</td>\n",
       "      <td>0.0</td>\n",
       "      <td>0.0</td>\n",
       "      <td></td>\n",
       "    </tr>\n",
       "    <tr>\n",
       "      <th>1</th>\n",
       "      <td>b</td>\n",
       "      <td>1</td>\n",
       "      <td>3</td>\n",
       "      <td>3</td>\n",
       "      <td>6</td>\n",
       "      <td>0</td>\n",
       "      <td>1</td>\n",
       "      <td>1</td>\n",
       "      <td>0</td>\n",
       "      <td>316</td>\n",
       "      <td>...</td>\n",
       "      <td>1.0</td>\n",
       "      <td>0.0</td>\n",
       "      <td>1.0</td>\n",
       "      <td>0.0</td>\n",
       "      <td>0.0</td>\n",
       "      <td>0.0</td>\n",
       "      <td>0.0</td>\n",
       "      <td>0.0</td>\n",
       "      <td>0.0</td>\n",
       "      <td></td>\n",
       "    </tr>\n",
       "    <tr>\n",
       "      <th>2</th>\n",
       "      <td>b</td>\n",
       "      <td>1</td>\n",
       "      <td>4</td>\n",
       "      <td>1</td>\n",
       "      <td>6</td>\n",
       "      <td>0</td>\n",
       "      <td>0</td>\n",
       "      <td>0</td>\n",
       "      <td>0</td>\n",
       "      <td>19</td>\n",
       "      <td>...</td>\n",
       "      <td>1.0</td>\n",
       "      <td>0.0</td>\n",
       "      <td>1.0</td>\n",
       "      <td>0.0</td>\n",
       "      <td>0.0</td>\n",
       "      <td>0.0</td>\n",
       "      <td>0.0</td>\n",
       "      <td>0.0</td>\n",
       "      <td>0.0</td>\n",
       "      <td></td>\n",
       "    </tr>\n",
       "    <tr>\n",
       "      <th>3</th>\n",
       "      <td>b</td>\n",
       "      <td>1</td>\n",
       "      <td>3</td>\n",
       "      <td>4</td>\n",
       "      <td>6</td>\n",
       "      <td>0</td>\n",
       "      <td>1</td>\n",
       "      <td>0</td>\n",
       "      <td>1</td>\n",
       "      <td>313</td>\n",
       "      <td>...</td>\n",
       "      <td>1.0</td>\n",
       "      <td>0.0</td>\n",
       "      <td>1.0</td>\n",
       "      <td>0.0</td>\n",
       "      <td>0.0</td>\n",
       "      <td>0.0</td>\n",
       "      <td>0.0</td>\n",
       "      <td>0.0</td>\n",
       "      <td>0.0</td>\n",
       "      <td></td>\n",
       "    </tr>\n",
       "    <tr>\n",
       "      <th>4</th>\n",
       "      <td>b</td>\n",
       "      <td>1</td>\n",
       "      <td>3</td>\n",
       "      <td>3</td>\n",
       "      <td>22</td>\n",
       "      <td>0</td>\n",
       "      <td>0</td>\n",
       "      <td>0</td>\n",
       "      <td>0</td>\n",
       "      <td>313</td>\n",
       "      <td>...</td>\n",
       "      <td>1.0</td>\n",
       "      <td>1.0</td>\n",
       "      <td>0.0</td>\n",
       "      <td>0.0</td>\n",
       "      <td>0.0</td>\n",
       "      <td>0.0</td>\n",
       "      <td>0.0</td>\n",
       "      <td>1.0</td>\n",
       "      <td>0.0</td>\n",
       "      <td>Nonprofit</td>\n",
       "    </tr>\n",
       "  </tbody>\n",
       "</table>\n",
       "<p>5 rows × 65 columns</p>\n",
       "</div>"
      ],
      "text/plain": [
       "  id ad  education  ofjobs  yearsexp  honors  volunteer  military  empholes  \\\n",
       "0  b  1          4       2         6       0          0         0         1   \n",
       "1  b  1          3       3         6       0          1         1         0   \n",
       "2  b  1          4       1         6       0          0         0         0   \n",
       "3  b  1          3       4         6       0          1         0         1   \n",
       "4  b  1          3       3        22       0          0         0         0   \n",
       "\n",
       "   occupspecific  ...  compreq  orgreq  manuf  transcom  bankreal trade  \\\n",
       "0             17  ...      1.0     0.0    1.0       0.0       0.0   0.0   \n",
       "1            316  ...      1.0     0.0    1.0       0.0       0.0   0.0   \n",
       "2             19  ...      1.0     0.0    1.0       0.0       0.0   0.0   \n",
       "3            313  ...      1.0     0.0    1.0       0.0       0.0   0.0   \n",
       "4            313  ...      1.0     1.0    0.0       0.0       0.0   0.0   \n",
       "\n",
       "  busservice othservice  missind  ownership  \n",
       "0        0.0        0.0      0.0             \n",
       "1        0.0        0.0      0.0             \n",
       "2        0.0        0.0      0.0             \n",
       "3        0.0        0.0      0.0             \n",
       "4        0.0        1.0      0.0  Nonprofit  \n",
       "\n",
       "[5 rows x 65 columns]"
      ]
     },
     "execution_count": 4,
     "metadata": {},
     "output_type": "execute_result"
    }
   ],
   "source": [
    "df.head()"
   ]
  },
  {
   "cell_type": "code",
   "execution_count": 5,
   "id": "5b5e055d-1c78-44ff-a035-84ea70b5401e",
   "metadata": {},
   "outputs": [
    {
     "data": {
      "text/plain": [
       "Index(['id', 'ad', 'education', 'ofjobs', 'yearsexp', 'honors', 'volunteer',\n",
       "       'military', 'empholes', 'occupspecific', 'occupbroad', 'workinschool',\n",
       "       'email', 'computerskills', 'specialskills', 'firstname', 'sex', 'race',\n",
       "       'h', 'l', 'call', 'city', 'kind', 'adid', 'fracblack', 'fracwhite',\n",
       "       'lmedhhinc', 'fracdropout', 'fraccolp', 'linc', 'col', 'expminreq',\n",
       "       'schoolreq', 'eoe', 'parent_sales', 'parent_emp', 'branch_sales',\n",
       "       'branch_emp', 'fed', 'fracblack_empzip', 'fracwhite_empzip',\n",
       "       'lmedhhinc_empzip', 'fracdropout_empzip', 'fraccolp_empzip',\n",
       "       'linc_empzip', 'manager', 'supervisor', 'secretary', 'offsupport',\n",
       "       'salesrep', 'retailsales', 'req', 'expreq', 'comreq', 'educreq',\n",
       "       'compreq', 'orgreq', 'manuf', 'transcom', 'bankreal', 'trade',\n",
       "       'busservice', 'othservice', 'missind', 'ownership'],\n",
       "      dtype='object')"
      ]
     },
     "execution_count": 5,
     "metadata": {},
     "output_type": "execute_result"
    }
   ],
   "source": [
    "df.columns\n"
   ]
  },
  {
   "cell_type": "code",
   "execution_count": 6,
   "id": "e565cd2f-ce75-4d62-8bd4-d192bfe64ca5",
   "metadata": {},
   "outputs": [
    {
     "name": "stdout",
     "output_type": "stream",
     "text": [
      "<class 'pandas.core.frame.DataFrame'>\n",
      "RangeIndex: 4870 entries, 0 to 4869\n",
      "Data columns (total 65 columns):\n",
      " #   Column              Non-Null Count  Dtype  \n",
      "---  ------              --------------  -----  \n",
      " 0   id                  4870 non-null   object \n",
      " 1   ad                  4870 non-null   object \n",
      " 2   education           4870 non-null   int8   \n",
      " 3   ofjobs              4870 non-null   int8   \n",
      " 4   yearsexp            4870 non-null   int8   \n",
      " 5   honors              4870 non-null   int8   \n",
      " 6   volunteer           4870 non-null   int8   \n",
      " 7   military            4870 non-null   int8   \n",
      " 8   empholes            4870 non-null   int8   \n",
      " 9   occupspecific       4870 non-null   int16  \n",
      " 10  occupbroad          4870 non-null   int8   \n",
      " 11  workinschool        4870 non-null   int8   \n",
      " 12  email               4870 non-null   int8   \n",
      " 13  computerskills      4870 non-null   int8   \n",
      " 14  specialskills       4870 non-null   int8   \n",
      " 15  firstname           4870 non-null   object \n",
      " 16  sex                 4870 non-null   object \n",
      " 17  race                4870 non-null   object \n",
      " 18  h                   4870 non-null   float32\n",
      " 19  l                   4870 non-null   float32\n",
      " 20  call                4870 non-null   float32\n",
      " 21  city                4870 non-null   object \n",
      " 22  kind                4870 non-null   object \n",
      " 23  adid                4870 non-null   float32\n",
      " 24  fracblack           4784 non-null   float32\n",
      " 25  fracwhite           4784 non-null   float32\n",
      " 26  lmedhhinc           4784 non-null   float32\n",
      " 27  fracdropout         4784 non-null   float32\n",
      " 28  fraccolp            4784 non-null   float32\n",
      " 29  linc                4784 non-null   float32\n",
      " 30  col                 4870 non-null   float32\n",
      " 31  expminreq           4870 non-null   object \n",
      " 32  schoolreq           4870 non-null   object \n",
      " 33  eoe                 4870 non-null   float32\n",
      " 34  parent_sales        1672 non-null   float32\n",
      " 35  parent_emp          1722 non-null   float32\n",
      " 36  branch_sales        608 non-null    float32\n",
      " 37  branch_emp          658 non-null    float32\n",
      " 38  fed                 3102 non-null   float32\n",
      " 39  fracblack_empzip    1918 non-null   float32\n",
      " 40  fracwhite_empzip    1918 non-null   float32\n",
      " 41  lmedhhinc_empzip    1908 non-null   float32\n",
      " 42  fracdropout_empzip  1918 non-null   float32\n",
      " 43  fraccolp_empzip     1918 non-null   float32\n",
      " 44  linc_empzip         1918 non-null   float32\n",
      " 45  manager             4870 non-null   float32\n",
      " 46  supervisor          4870 non-null   float32\n",
      " 47  secretary           4870 non-null   float32\n",
      " 48  offsupport          4870 non-null   float32\n",
      " 49  salesrep            4870 non-null   float32\n",
      " 50  retailsales         4870 non-null   float32\n",
      " 51  req                 4870 non-null   float32\n",
      " 52  expreq              4870 non-null   float32\n",
      " 53  comreq              4870 non-null   float32\n",
      " 54  educreq             4870 non-null   float32\n",
      " 55  compreq             4870 non-null   float32\n",
      " 56  orgreq              4870 non-null   float32\n",
      " 57  manuf               4870 non-null   float32\n",
      " 58  transcom            4870 non-null   float32\n",
      " 59  bankreal            4870 non-null   float32\n",
      " 60  trade               4870 non-null   float32\n",
      " 61  busservice          4870 non-null   float32\n",
      " 62  othservice          4870 non-null   float32\n",
      " 63  missind             4870 non-null   float32\n",
      " 64  ownership           4870 non-null   object \n",
      "dtypes: float32(42), int16(1), int8(12), object(10)\n",
      "memory usage: 1.2+ MB\n"
     ]
    }
   ],
   "source": [
    "df.info()"
   ]
  },
  {
   "cell_type": "code",
   "execution_count": 7,
   "id": "1e326419-7740-4c9c-8a78-404aa3d2706d",
   "metadata": {},
   "outputs": [
    {
     "data": {
      "text/plain": [
       "array(['w', 'b'], dtype=object)"
      ]
     },
     "execution_count": 7,
     "metadata": {},
     "output_type": "execute_result"
    }
   ],
   "source": [
    "df['race'].unique()"
   ]
  },
  {
   "cell_type": "code",
   "execution_count": 8,
   "id": "c64d44de-c7db-48d3-988b-863d105d3cfa",
   "metadata": {},
   "outputs": [
    {
     "data": {
      "text/plain": [
       "(4870, 65)"
      ]
     },
     "execution_count": 8,
     "metadata": {},
     "output_type": "execute_result"
    }
   ],
   "source": [
    "df.shape"
   ]
  },
  {
   "cell_type": "code",
   "execution_count": 9,
   "id": "a6c362c0-04fd-418a-ac2f-faff0b37c907",
   "metadata": {},
   "outputs": [
    {
     "data": {
      "text/plain": [
       "array(['c', 'b'], dtype=object)"
      ]
     },
     "execution_count": 9,
     "metadata": {},
     "output_type": "execute_result"
    }
   ],
   "source": [
    "df['city'].unique()"
   ]
  },
  {
   "cell_type": "code",
   "execution_count": 10,
   "id": "2129ef5c-d080-4964-b47f-277aec3be726",
   "metadata": {},
   "outputs": [
    {
     "data": {
      "text/plain": [
       "array(['a', 's'], dtype=object)"
      ]
     },
     "execution_count": 10,
     "metadata": {},
     "output_type": "execute_result"
    }
   ],
   "source": [
    "df['kind'].unique()"
   ]
  },
  {
   "cell_type": "markdown",
   "id": "d5f0eb39-566d-4576-b30f-5ffa2dcd97e6",
   "metadata": {},
   "source": [
    "My project topic: Are immigrants with non-Anglophone names less likely to be called back?\n",
    "\n",
    "Through this project, my main goal is to analyze the discrimination in hiring process based on race and ethnicity. I intend to interpret to what extent the discrimination persists in the west and how the immigrant/non-white percentage of the population is affected by this trend.\n",
    "\n",
    "The columns that are of importance to my project are: \n",
    "firstname (since I want to check how non-Anglophone names face discrimination): First name on the resume (used to infer race or origin), sex: Gender of the candidate (male, female), \n",
    "education (level): Years of education completed,\n",
    "ofjobs: Number of jobs listed, \n",
    "yearsexp: Years of experience, \n",
    "race: Implied racial/ethnic group from name (White, Black), \n",
    "honors: 1 if the resume lists honors, 0 otherwise, \n",
    "volunteer: 1 if volunteer work is listed, \n",
    "empholes: 1 if there are employment gaps (holes) in the resume, \n",
    "workinschool: 1 if candidate worked during school, \n",
    "computerskills: 1 if candidate mentions computer skills, \n",
    "specialskills: 1 if resume includes special skills, \n",
    "kind: Type of resume (high/low quality or variation), \n",
    "call: Whether the resume received a callback (1 = yes, 0 = no), \n",
    "city: City where the job is located\n"
   ]
  },
  {
   "cell_type": "code",
   "execution_count": 11,
   "id": "69160ae5-8ebb-4465-8fe7-d5671a1a1f0a",
   "metadata": {},
   "outputs": [],
   "source": [
    "keep_cols = [\n",
    "    'firstname', 'race', 'sex', 'education', 'ofjobs', 'yearsexp',\n",
    "    'honors', 'volunteer', 'empholes', 'workinschool',\n",
    "    'computerskills', 'specialskills', 'kind',\n",
    "    'call', 'city'\n",
    "]\n"
   ]
  },
  {
   "cell_type": "code",
   "execution_count": 12,
   "id": "e55d3c0c-23eb-4c11-8d60-e9059bbb4c5b",
   "metadata": {},
   "outputs": [
    {
     "data": {
      "text/plain": [
       "array([0., 1.], dtype=float32)"
      ]
     },
     "execution_count": 12,
     "metadata": {},
     "output_type": "execute_result"
    }
   ],
   "source": [
    "df['call'].unique()"
   ]
  },
  {
   "cell_type": "code",
   "execution_count": 13,
   "id": "3809434f-3008-4ad0-9a9b-0cf8ec0feb33",
   "metadata": {},
   "outputs": [],
   "source": [
    "my_df = df[keep_cols]"
   ]
  },
  {
   "cell_type": "code",
   "execution_count": 14,
   "id": "521e9073-3b97-43df-8ad9-29b65d185071",
   "metadata": {},
   "outputs": [
    {
     "data": {
      "text/html": [
       "<div>\n",
       "<style scoped>\n",
       "    .dataframe tbody tr th:only-of-type {\n",
       "        vertical-align: middle;\n",
       "    }\n",
       "\n",
       "    .dataframe tbody tr th {\n",
       "        vertical-align: top;\n",
       "    }\n",
       "\n",
       "    .dataframe thead th {\n",
       "        text-align: right;\n",
       "    }\n",
       "</style>\n",
       "<table border=\"1\" class=\"dataframe\">\n",
       "  <thead>\n",
       "    <tr style=\"text-align: right;\">\n",
       "      <th></th>\n",
       "      <th>firstname</th>\n",
       "      <th>race</th>\n",
       "      <th>sex</th>\n",
       "      <th>education</th>\n",
       "      <th>ofjobs</th>\n",
       "      <th>yearsexp</th>\n",
       "      <th>honors</th>\n",
       "      <th>volunteer</th>\n",
       "      <th>empholes</th>\n",
       "      <th>workinschool</th>\n",
       "      <th>computerskills</th>\n",
       "      <th>specialskills</th>\n",
       "      <th>kind</th>\n",
       "      <th>call</th>\n",
       "      <th>city</th>\n",
       "    </tr>\n",
       "  </thead>\n",
       "  <tbody>\n",
       "    <tr>\n",
       "      <th>0</th>\n",
       "      <td>Allison</td>\n",
       "      <td>w</td>\n",
       "      <td>f</td>\n",
       "      <td>4</td>\n",
       "      <td>2</td>\n",
       "      <td>6</td>\n",
       "      <td>0</td>\n",
       "      <td>0</td>\n",
       "      <td>1</td>\n",
       "      <td>0</td>\n",
       "      <td>1</td>\n",
       "      <td>0</td>\n",
       "      <td>a</td>\n",
       "      <td>0.0</td>\n",
       "      <td>c</td>\n",
       "    </tr>\n",
       "    <tr>\n",
       "      <th>1</th>\n",
       "      <td>Kristen</td>\n",
       "      <td>w</td>\n",
       "      <td>f</td>\n",
       "      <td>3</td>\n",
       "      <td>3</td>\n",
       "      <td>6</td>\n",
       "      <td>0</td>\n",
       "      <td>1</td>\n",
       "      <td>0</td>\n",
       "      <td>1</td>\n",
       "      <td>1</td>\n",
       "      <td>0</td>\n",
       "      <td>a</td>\n",
       "      <td>0.0</td>\n",
       "      <td>c</td>\n",
       "    </tr>\n",
       "    <tr>\n",
       "      <th>2</th>\n",
       "      <td>Lakisha</td>\n",
       "      <td>b</td>\n",
       "      <td>f</td>\n",
       "      <td>4</td>\n",
       "      <td>1</td>\n",
       "      <td>6</td>\n",
       "      <td>0</td>\n",
       "      <td>0</td>\n",
       "      <td>0</td>\n",
       "      <td>1</td>\n",
       "      <td>1</td>\n",
       "      <td>0</td>\n",
       "      <td>a</td>\n",
       "      <td>0.0</td>\n",
       "      <td>c</td>\n",
       "    </tr>\n",
       "    <tr>\n",
       "      <th>3</th>\n",
       "      <td>Latonya</td>\n",
       "      <td>b</td>\n",
       "      <td>f</td>\n",
       "      <td>3</td>\n",
       "      <td>4</td>\n",
       "      <td>6</td>\n",
       "      <td>0</td>\n",
       "      <td>1</td>\n",
       "      <td>1</td>\n",
       "      <td>0</td>\n",
       "      <td>1</td>\n",
       "      <td>1</td>\n",
       "      <td>a</td>\n",
       "      <td>0.0</td>\n",
       "      <td>c</td>\n",
       "    </tr>\n",
       "    <tr>\n",
       "      <th>4</th>\n",
       "      <td>Carrie</td>\n",
       "      <td>w</td>\n",
       "      <td>f</td>\n",
       "      <td>3</td>\n",
       "      <td>3</td>\n",
       "      <td>22</td>\n",
       "      <td>0</td>\n",
       "      <td>0</td>\n",
       "      <td>0</td>\n",
       "      <td>1</td>\n",
       "      <td>1</td>\n",
       "      <td>0</td>\n",
       "      <td>a</td>\n",
       "      <td>0.0</td>\n",
       "      <td>c</td>\n",
       "    </tr>\n",
       "    <tr>\n",
       "      <th>5</th>\n",
       "      <td>Jay</td>\n",
       "      <td>w</td>\n",
       "      <td>m</td>\n",
       "      <td>4</td>\n",
       "      <td>2</td>\n",
       "      <td>6</td>\n",
       "      <td>1</td>\n",
       "      <td>0</td>\n",
       "      <td>0</td>\n",
       "      <td>0</td>\n",
       "      <td>0</td>\n",
       "      <td>1</td>\n",
       "      <td>s</td>\n",
       "      <td>0.0</td>\n",
       "      <td>c</td>\n",
       "    </tr>\n",
       "    <tr>\n",
       "      <th>6</th>\n",
       "      <td>Jill</td>\n",
       "      <td>w</td>\n",
       "      <td>f</td>\n",
       "      <td>4</td>\n",
       "      <td>2</td>\n",
       "      <td>5</td>\n",
       "      <td>0</td>\n",
       "      <td>1</td>\n",
       "      <td>0</td>\n",
       "      <td>1</td>\n",
       "      <td>1</td>\n",
       "      <td>1</td>\n",
       "      <td>s</td>\n",
       "      <td>0.0</td>\n",
       "      <td>c</td>\n",
       "    </tr>\n",
       "    <tr>\n",
       "      <th>7</th>\n",
       "      <td>Kenya</td>\n",
       "      <td>b</td>\n",
       "      <td>f</td>\n",
       "      <td>3</td>\n",
       "      <td>4</td>\n",
       "      <td>21</td>\n",
       "      <td>0</td>\n",
       "      <td>1</td>\n",
       "      <td>1</td>\n",
       "      <td>0</td>\n",
       "      <td>1</td>\n",
       "      <td>1</td>\n",
       "      <td>a</td>\n",
       "      <td>0.0</td>\n",
       "      <td>c</td>\n",
       "    </tr>\n",
       "    <tr>\n",
       "      <th>8</th>\n",
       "      <td>Latonya</td>\n",
       "      <td>b</td>\n",
       "      <td>f</td>\n",
       "      <td>4</td>\n",
       "      <td>3</td>\n",
       "      <td>3</td>\n",
       "      <td>0</td>\n",
       "      <td>0</td>\n",
       "      <td>0</td>\n",
       "      <td>0</td>\n",
       "      <td>1</td>\n",
       "      <td>1</td>\n",
       "      <td>s</td>\n",
       "      <td>0.0</td>\n",
       "      <td>c</td>\n",
       "    </tr>\n",
       "    <tr>\n",
       "      <th>9</th>\n",
       "      <td>Tyrone</td>\n",
       "      <td>b</td>\n",
       "      <td>m</td>\n",
       "      <td>4</td>\n",
       "      <td>2</td>\n",
       "      <td>6</td>\n",
       "      <td>0</td>\n",
       "      <td>1</td>\n",
       "      <td>0</td>\n",
       "      <td>1</td>\n",
       "      <td>0</td>\n",
       "      <td>1</td>\n",
       "      <td>s</td>\n",
       "      <td>0.0</td>\n",
       "      <td>c</td>\n",
       "    </tr>\n",
       "    <tr>\n",
       "      <th>10</th>\n",
       "      <td>Aisha</td>\n",
       "      <td>b</td>\n",
       "      <td>f</td>\n",
       "      <td>4</td>\n",
       "      <td>4</td>\n",
       "      <td>8</td>\n",
       "      <td>0</td>\n",
       "      <td>1</td>\n",
       "      <td>1</td>\n",
       "      <td>0</td>\n",
       "      <td>1</td>\n",
       "      <td>1</td>\n",
       "      <td>a</td>\n",
       "      <td>0.0</td>\n",
       "      <td>c</td>\n",
       "    </tr>\n",
       "    <tr>\n",
       "      <th>11</th>\n",
       "      <td>Allison</td>\n",
       "      <td>w</td>\n",
       "      <td>f</td>\n",
       "      <td>4</td>\n",
       "      <td>4</td>\n",
       "      <td>8</td>\n",
       "      <td>0</td>\n",
       "      <td>0</td>\n",
       "      <td>0</td>\n",
       "      <td>1</td>\n",
       "      <td>1</td>\n",
       "      <td>0</td>\n",
       "      <td>a</td>\n",
       "      <td>0.0</td>\n",
       "      <td>c</td>\n",
       "    </tr>\n",
       "    <tr>\n",
       "      <th>12</th>\n",
       "      <td>Aisha</td>\n",
       "      <td>b</td>\n",
       "      <td>f</td>\n",
       "      <td>4</td>\n",
       "      <td>4</td>\n",
       "      <td>4</td>\n",
       "      <td>0</td>\n",
       "      <td>0</td>\n",
       "      <td>1</td>\n",
       "      <td>0</td>\n",
       "      <td>1</td>\n",
       "      <td>1</td>\n",
       "      <td>a</td>\n",
       "      <td>0.0</td>\n",
       "      <td>c</td>\n",
       "    </tr>\n",
       "    <tr>\n",
       "      <th>13</th>\n",
       "      <td>Carrie</td>\n",
       "      <td>w</td>\n",
       "      <td>f</td>\n",
       "      <td>4</td>\n",
       "      <td>2</td>\n",
       "      <td>4</td>\n",
       "      <td>0</td>\n",
       "      <td>0</td>\n",
       "      <td>0</td>\n",
       "      <td>1</td>\n",
       "      <td>1</td>\n",
       "      <td>0</td>\n",
       "      <td>a</td>\n",
       "      <td>0.0</td>\n",
       "      <td>c</td>\n",
       "    </tr>\n",
       "    <tr>\n",
       "      <th>14</th>\n",
       "      <td>Aisha</td>\n",
       "      <td>b</td>\n",
       "      <td>f</td>\n",
       "      <td>4</td>\n",
       "      <td>2</td>\n",
       "      <td>5</td>\n",
       "      <td>0</td>\n",
       "      <td>1</td>\n",
       "      <td>0</td>\n",
       "      <td>0</td>\n",
       "      <td>0</td>\n",
       "      <td>1</td>\n",
       "      <td>s</td>\n",
       "      <td>0.0</td>\n",
       "      <td>c</td>\n",
       "    </tr>\n",
       "    <tr>\n",
       "      <th>15</th>\n",
       "      <td>Geoffrey</td>\n",
       "      <td>w</td>\n",
       "      <td>m</td>\n",
       "      <td>1</td>\n",
       "      <td>3</td>\n",
       "      <td>4</td>\n",
       "      <td>0</td>\n",
       "      <td>0</td>\n",
       "      <td>0</td>\n",
       "      <td>0</td>\n",
       "      <td>1</td>\n",
       "      <td>1</td>\n",
       "      <td>s</td>\n",
       "      <td>0.0</td>\n",
       "      <td>c</td>\n",
       "    </tr>\n",
       "    <tr>\n",
       "      <th>16</th>\n",
       "      <td>Matthew</td>\n",
       "      <td>w</td>\n",
       "      <td>m</td>\n",
       "      <td>4</td>\n",
       "      <td>3</td>\n",
       "      <td>5</td>\n",
       "      <td>0</td>\n",
       "      <td>1</td>\n",
       "      <td>0</td>\n",
       "      <td>1</td>\n",
       "      <td>0</td>\n",
       "      <td>0</td>\n",
       "      <td>s</td>\n",
       "      <td>0.0</td>\n",
       "      <td>c</td>\n",
       "    </tr>\n",
       "    <tr>\n",
       "      <th>17</th>\n",
       "      <td>Tamika</td>\n",
       "      <td>b</td>\n",
       "      <td>f</td>\n",
       "      <td>4</td>\n",
       "      <td>3</td>\n",
       "      <td>6</td>\n",
       "      <td>0</td>\n",
       "      <td>0</td>\n",
       "      <td>0</td>\n",
       "      <td>0</td>\n",
       "      <td>0</td>\n",
       "      <td>1</td>\n",
       "      <td>s</td>\n",
       "      <td>0.0</td>\n",
       "      <td>c</td>\n",
       "    </tr>\n",
       "    <tr>\n",
       "      <th>18</th>\n",
       "      <td>Jill</td>\n",
       "      <td>w</td>\n",
       "      <td>f</td>\n",
       "      <td>4</td>\n",
       "      <td>2</td>\n",
       "      <td>6</td>\n",
       "      <td>1</td>\n",
       "      <td>1</td>\n",
       "      <td>0</td>\n",
       "      <td>1</td>\n",
       "      <td>0</td>\n",
       "      <td>1</td>\n",
       "      <td>s</td>\n",
       "      <td>0.0</td>\n",
       "      <td>c</td>\n",
       "    </tr>\n",
       "    <tr>\n",
       "      <th>19</th>\n",
       "      <td>Latonya</td>\n",
       "      <td>b</td>\n",
       "      <td>f</td>\n",
       "      <td>2</td>\n",
       "      <td>2</td>\n",
       "      <td>8</td>\n",
       "      <td>0</td>\n",
       "      <td>0</td>\n",
       "      <td>1</td>\n",
       "      <td>0</td>\n",
       "      <td>0</td>\n",
       "      <td>0</td>\n",
       "      <td>s</td>\n",
       "      <td>0.0</td>\n",
       "      <td>c</td>\n",
       "    </tr>\n",
       "  </tbody>\n",
       "</table>\n",
       "</div>"
      ],
      "text/plain": [
       "   firstname race sex  education  ofjobs  yearsexp  honors  volunteer  \\\n",
       "0    Allison    w   f          4       2         6       0          0   \n",
       "1    Kristen    w   f          3       3         6       0          1   \n",
       "2    Lakisha    b   f          4       1         6       0          0   \n",
       "3    Latonya    b   f          3       4         6       0          1   \n",
       "4     Carrie    w   f          3       3        22       0          0   \n",
       "5        Jay    w   m          4       2         6       1          0   \n",
       "6       Jill    w   f          4       2         5       0          1   \n",
       "7      Kenya    b   f          3       4        21       0          1   \n",
       "8    Latonya    b   f          4       3         3       0          0   \n",
       "9     Tyrone    b   m          4       2         6       0          1   \n",
       "10     Aisha    b   f          4       4         8       0          1   \n",
       "11   Allison    w   f          4       4         8       0          0   \n",
       "12     Aisha    b   f          4       4         4       0          0   \n",
       "13    Carrie    w   f          4       2         4       0          0   \n",
       "14     Aisha    b   f          4       2         5       0          1   \n",
       "15  Geoffrey    w   m          1       3         4       0          0   \n",
       "16   Matthew    w   m          4       3         5       0          1   \n",
       "17    Tamika    b   f          4       3         6       0          0   \n",
       "18      Jill    w   f          4       2         6       1          1   \n",
       "19   Latonya    b   f          2       2         8       0          0   \n",
       "\n",
       "    empholes  workinschool  computerskills  specialskills kind  call city  \n",
       "0          1             0               1              0    a   0.0    c  \n",
       "1          0             1               1              0    a   0.0    c  \n",
       "2          0             1               1              0    a   0.0    c  \n",
       "3          1             0               1              1    a   0.0    c  \n",
       "4          0             1               1              0    a   0.0    c  \n",
       "5          0             0               0              1    s   0.0    c  \n",
       "6          0             1               1              1    s   0.0    c  \n",
       "7          1             0               1              1    a   0.0    c  \n",
       "8          0             0               1              1    s   0.0    c  \n",
       "9          0             1               0              1    s   0.0    c  \n",
       "10         1             0               1              1    a   0.0    c  \n",
       "11         0             1               1              0    a   0.0    c  \n",
       "12         1             0               1              1    a   0.0    c  \n",
       "13         0             1               1              0    a   0.0    c  \n",
       "14         0             0               0              1    s   0.0    c  \n",
       "15         0             0               1              1    s   0.0    c  \n",
       "16         0             1               0              0    s   0.0    c  \n",
       "17         0             0               0              1    s   0.0    c  \n",
       "18         0             1               0              1    s   0.0    c  \n",
       "19         1             0               0              0    s   0.0    c  "
      ]
     },
     "execution_count": 14,
     "metadata": {},
     "output_type": "execute_result"
    }
   ],
   "source": [
    "my_df.head(20)"
   ]
  },
  {
   "cell_type": "code",
   "execution_count": 15,
   "id": "bef8add2-3b20-40d7-ad42-323cf7b7d7df",
   "metadata": {},
   "outputs": [
    {
     "name": "stdout",
     "output_type": "stream",
     "text": [
      "<class 'pandas.core.frame.DataFrame'>\n",
      "RangeIndex: 4870 entries, 0 to 4869\n",
      "Data columns (total 15 columns):\n",
      " #   Column          Non-Null Count  Dtype  \n",
      "---  ------          --------------  -----  \n",
      " 0   firstname       4870 non-null   object \n",
      " 1   race            4870 non-null   object \n",
      " 2   sex             4870 non-null   object \n",
      " 3   education       4870 non-null   int8   \n",
      " 4   ofjobs          4870 non-null   int8   \n",
      " 5   yearsexp        4870 non-null   int8   \n",
      " 6   honors          4870 non-null   int8   \n",
      " 7   volunteer       4870 non-null   int8   \n",
      " 8   empholes        4870 non-null   int8   \n",
      " 9   workinschool    4870 non-null   int8   \n",
      " 10  computerskills  4870 non-null   int8   \n",
      " 11  specialskills   4870 non-null   int8   \n",
      " 12  kind            4870 non-null   object \n",
      " 13  call            4870 non-null   float32\n",
      " 14  city            4870 non-null   object \n",
      "dtypes: float32(1), int8(9), object(5)\n",
      "memory usage: 252.2+ KB\n"
     ]
    }
   ],
   "source": [
    "my_df.info()"
   ]
  },
  {
   "cell_type": "markdown",
   "id": "e5ab3017-03e1-4439-be04-821a269c436a",
   "metadata": {},
   "source": [
    "The information above highlights that the dataset for my project (my_df) doesnot contain any missing/null values!"
   ]
  },
  {
   "cell_type": "code",
   "execution_count": 27,
   "id": "0aea10f7-0ddb-47f9-b8ec-100df82a6d62",
   "metadata": {},
   "outputs": [
    {
     "name": "stderr",
     "output_type": "stream",
     "text": [
      "/var/folders/90/1nx5fn_n3glcmc0jqy_gjd1m0000gn/T/ipykernel_9131/1265114042.py:3: SettingWithCopyWarning: \n",
      "A value is trying to be set on a copy of a slice from a DataFrame.\n",
      "Try using .loc[row_indexer,col_indexer] = value instead\n",
      "\n",
      "See the caveats in the documentation: https://pandas.pydata.org/pandas-docs/stable/user_guide/indexing.html#returning-a-view-versus-a-copy\n",
      "  my_df['call'] = my_df['call'].astype(int)\n",
      "/var/folders/90/1nx5fn_n3glcmc0jqy_gjd1m0000gn/T/ipykernel_9131/1265114042.py:5: SettingWithCopyWarning: \n",
      "A value is trying to be set on a copy of a slice from a DataFrame.\n",
      "Try using .loc[row_indexer,col_indexer] = value instead\n",
      "\n",
      "See the caveats in the documentation: https://pandas.pydata.org/pandas-docs/stable/user_guide/indexing.html#returning-a-view-versus-a-copy\n",
      "  my_df['anglophone'] = my_df['race'].apply(lambda x: 1 if x == 'w' else 0)\n"
     ]
    }
   ],
   "source": [
    "#Now we will change the data type of few columns for better analysis:\n",
    "\n",
    "my_df['call'] = my_df['call'].astype(int)\n",
    "\n",
    "my_df['anglophone'] = my_df['race'].apply(lambda x: 1 if x == 'w' else 0)"
   ]
  },
  {
   "cell_type": "code",
   "execution_count": 28,
   "id": "a5586d99-91f4-4950-8c84-a946607eb524",
   "metadata": {},
   "outputs": [
    {
     "data": {
      "text/plain": [
       "array(['f', 'm'], dtype=object)"
      ]
     },
     "execution_count": 28,
     "metadata": {},
     "output_type": "execute_result"
    }
   ],
   "source": [
    "my_df['sex'].unique()"
   ]
  },
  {
   "cell_type": "code",
   "execution_count": 29,
   "id": "0bdc632b-c5ff-4e97-92f6-3fc57e2b881d",
   "metadata": {},
   "outputs": [
    {
     "data": {
      "text/plain": [
       "array([0, 1])"
      ]
     },
     "execution_count": 29,
     "metadata": {},
     "output_type": "execute_result"
    }
   ],
   "source": [
    "my_df['call'].unique()"
   ]
  },
  {
   "cell_type": "code",
   "execution_count": 30,
   "id": "66168778-d5e3-49b6-aa4e-3c7b94bd11b6",
   "metadata": {},
   "outputs": [
    {
     "name": "stdout",
     "output_type": "stream",
     "text": [
      "['c' 'b']\n",
      "c: Chicago, b: Boston\n"
     ]
    }
   ],
   "source": [
    "print(my_df['city'].unique())\n",
    "print(\"c: Chicago, b: Boston\")"
   ]
  },
  {
   "cell_type": "code",
   "execution_count": 31,
   "id": "9d37774e-69a3-413e-8c1b-55629786e027",
   "metadata": {},
   "outputs": [
    {
     "name": "stdout",
     "output_type": "stream",
     "text": [
      "['a' 's']\n",
      "a: Advantage resume (high quality), s: Standard Resume (low quality)\n"
     ]
    }
   ],
   "source": [
    "print(my_df['kind'].unique())\n",
    "print(\"a: Advantage resume (high quality), s: Standard Resume (low quality)\")"
   ]
  },
  {
   "cell_type": "code",
   "execution_count": 32,
   "id": "d0aa2087-3d29-4da0-b8de-22f78067e26a",
   "metadata": {},
   "outputs": [
    {
     "name": "stdout",
     "output_type": "stream",
     "text": [
      "Overall Callback rate:  8.05%\n"
     ]
    }
   ],
   "source": [
    "#overall callback rate\n",
    "overall_callback = my_df['call'].mean()\n",
    "print(f\"Overall Callback rate: {overall_callback: .2%}\")"
   ]
  },
  {
   "cell_type": "code",
   "execution_count": 33,
   "id": "00bd3d67-16d7-4c3c-a1af-3502e73f99b9",
   "metadata": {},
   "outputs": [
    {
     "name": "stdout",
     "output_type": "stream",
     "text": [
      "\n",
      "Callback rate by race: \n",
      "race\n",
      "b    0.064476\n",
      "w    0.096509\n",
      "Name: call, dtype: float64\n"
     ]
    }
   ],
   "source": [
    "#callback rate by race:\n",
    "callback_by_race = my_df.groupby('race')['call'].mean()\n",
    "print(\"\\nCallback rate by race: \")\n",
    "print(callback_by_race)"
   ]
  },
  {
   "cell_type": "code",
   "execution_count": 34,
   "id": "fa730927-52b5-4ef4-bbb9-63e03d85956a",
   "metadata": {},
   "outputs": [
    {
     "name": "stdout",
     "output_type": "stream",
     "text": [
      "\n",
      "Callback rate by group: \n",
      "anglophones\n",
      "0    0.064476\n",
      "1    0.096509\n",
      "Name: call, dtype: float64\n"
     ]
    }
   ],
   "source": [
    "#callback rate by anglophone vs. non-anglophone\n",
    "callback_by_group = my_df.groupby('anglophones')['call'].mean()\n",
    "print(\"\\nCallback rate by group: \")\n",
    "print(callback_by_group)"
   ]
  },
  {
   "cell_type": "code",
   "execution_count": 35,
   "id": "d8e3040a-7469-40a8-a1d3-470fd6d991b4",
   "metadata": {},
   "outputs": [],
   "source": [
    "my_df.to_csv(\"Cleaned_resume_audit_data.csv\", index=False)\n"
   ]
  },
  {
   "cell_type": "code",
   "execution_count": 36,
   "id": "eeb9d51b-8ba5-4fd5-9b07-0a24ce0daadd",
   "metadata": {},
   "outputs": [
    {
     "data": {
      "text/plain": [
       "Index(['firstname', 'race', 'sex', 'education', 'ofjobs', 'yearsexp', 'honors',\n",
       "       'volunteer', 'empholes', 'workinschool', 'computerskills',\n",
       "       'specialskills', 'kind', 'call', 'city', 'anglophones', 'anglophone'],\n",
       "      dtype='object')"
      ]
     },
     "execution_count": 36,
     "metadata": {},
     "output_type": "execute_result"
    }
   ],
   "source": [
    "my_df.columns"
   ]
  },
  {
   "cell_type": "code",
   "execution_count": 41,
   "id": "07a0de88-8c14-4047-98e6-edd8b27a5619",
   "metadata": {},
   "outputs": [
    {
     "name": "stdout",
     "output_type": "stream",
     "text": [
      "<class 'pandas.core.frame.DataFrame'>\n",
      "RangeIndex: 4870 entries, 0 to 4869\n",
      "Data columns (total 13 columns):\n",
      " #   Column          Non-Null Count  Dtype \n",
      "---  ------          --------------  ----- \n",
      " 0   sex             4870 non-null   object\n",
      " 1   education       4870 non-null   int8  \n",
      " 2   ofjobs          4870 non-null   int8  \n",
      " 3   yearsexp        4870 non-null   int8  \n",
      " 4   honors          4870 non-null   int8  \n",
      " 5   volunteer       4870 non-null   int8  \n",
      " 6   empholes        4870 non-null   int8  \n",
      " 7   workinschool    4870 non-null   int8  \n",
      " 8   computerskills  4870 non-null   int8  \n",
      " 9   specialskills   4870 non-null   int8  \n",
      " 10  kind            4870 non-null   object\n",
      " 11  anglophone      4870 non-null   int64 \n",
      " 12  call            4870 non-null   int64 \n",
      "dtypes: int64(2), int8(9), object(2)\n",
      "memory usage: 195.1+ KB\n"
     ]
    }
   ],
   "source": [
    "df_lg = my_df[['sex', 'education', 'ofjobs', 'yearsexp', 'honors',\n",
    "       'volunteer', 'empholes', 'workinschool', 'computerskills',\n",
    "       'specialskills', 'kind', 'anglophone', 'call']]\n",
    "df_lg.info()"
   ]
  },
  {
   "cell_type": "code",
   "execution_count": 44,
   "id": "3954a827-d3bc-4c88-bc7b-af066f43295f",
   "metadata": {},
   "outputs": [
    {
     "data": {
      "text/plain": [
       "array([1, 0])"
      ]
     },
     "execution_count": 44,
     "metadata": {},
     "output_type": "execute_result"
    }
   ],
   "source": []
  },
  {
   "cell_type": "code",
   "execution_count": 42,
   "id": "7d899c99-2ab3-440a-baeb-ee89c0476c94",
   "metadata": {},
   "outputs": [
    {
     "name": "stderr",
     "output_type": "stream",
     "text": [
      "/var/folders/90/1nx5fn_n3glcmc0jqy_gjd1m0000gn/T/ipykernel_9131/24570053.py:1: SettingWithCopyWarning: \n",
      "A value is trying to be set on a copy of a slice from a DataFrame.\n",
      "Try using .loc[row_indexer,col_indexer] = value instead\n",
      "\n",
      "See the caveats in the documentation: https://pandas.pydata.org/pandas-docs/stable/user_guide/indexing.html#returning-a-view-versus-a-copy\n",
      "  df_lg['sex'] = df_lg['sex'].map({'m': 1, 'f': 0})\n",
      "/var/folders/90/1nx5fn_n3glcmc0jqy_gjd1m0000gn/T/ipykernel_9131/24570053.py:2: SettingWithCopyWarning: \n",
      "A value is trying to be set on a copy of a slice from a DataFrame.\n",
      "Try using .loc[row_indexer,col_indexer] = value instead\n",
      "\n",
      "See the caveats in the documentation: https://pandas.pydata.org/pandas-docs/stable/user_guide/indexing.html#returning-a-view-versus-a-copy\n",
      "  df_lg['kind'] = df_lg['kind'].map({'a': 1, 's': 0})\n"
     ]
    }
   ],
   "source": [
    "df_lg['sex'] = df_lg['sex'].map({'m': 1, 'f': 0})\n",
    "df_lg['kind'] = df_lg['kind'].map({'a': 1, 's': 0})\n"
   ]
  },
  {
   "cell_type": "code",
   "execution_count": 45,
   "id": "0d80ba08-ee4f-4f56-a704-d21d67d97630",
   "metadata": {},
   "outputs": [
    {
     "name": "stdout",
     "output_type": "stream",
     "text": [
      "Optimization terminated successfully.\n",
      "         Current function value: 0.267949\n",
      "         Iterations 7\n",
      "                           Logit Regression Results                           \n",
      "==============================================================================\n",
      "Dep. Variable:                   call   No. Observations:                 4870\n",
      "Model:                          Logit   Df Residuals:                     4857\n",
      "Method:                           MLE   Df Model:                           12\n",
      "Date:                Mon, 31 Mar 2025   Pseudo R-squ.:                 0.04294\n",
      "Time:                        16:52:45   Log-Likelihood:                -1304.9\n",
      "converged:                       True   LL-Null:                       -1363.5\n",
      "Covariance Type:            nonrobust   LLR p-value:                 2.343e-19\n",
      "==================================================================================\n",
      "                     coef    std err          z      P>|z|      [0.025      0.975]\n",
      "----------------------------------------------------------------------------------\n",
      "const             -3.6231      0.368     -9.836      0.000      -4.345      -2.901\n",
      "sex               -0.0076      0.158     -0.048      0.962      -0.317       0.302\n",
      "education          0.0834      0.080      1.041      0.298      -0.074       0.241\n",
      "ofjobs            -0.0230      0.049     -0.473      0.636      -0.118       0.072\n",
      "yearsexp           0.0367      0.010      3.546      0.000       0.016       0.057\n",
      "honors             0.4419      0.197      2.238      0.025       0.055       0.829\n",
      "volunteer          0.1000      0.118      0.850      0.395      -0.131       0.331\n",
      "empholes           0.4262      0.135      3.147      0.002       0.161       0.692\n",
      "workinschool       0.1595      0.129      1.233      0.218      -0.094       0.413\n",
      "computerskills    -0.2854      0.154     -1.848      0.065      -0.588       0.017\n",
      "specialskills      0.7650      0.112      6.826      0.000       0.545       0.985\n",
      "kind              -0.0448      0.157     -0.285      0.776      -0.353       0.264\n",
      "anglophone         0.4376      0.109      4.026      0.000       0.225       0.651\n",
      "==================================================================================\n"
     ]
    }
   ],
   "source": [
    "import statsmodels.api as sm\n",
    "\n",
    "X = df_lg[['sex', 'education', 'ofjobs', 'yearsexp', 'honors',\n",
    "       'volunteer', 'empholes', 'workinschool', 'computerskills',\n",
    "       'specialskills', 'kind', 'anglophone']]\n",
    "X = sm.add_constant(X)\n",
    "y = df_lg['call']\n",
    "\n",
    "model = sm.Logit(y, X).fit()\n",
    "print(model.summary())"
   ]
  },
  {
   "cell_type": "code",
   "execution_count": null,
   "id": "d4932df0-188f-4bb8-8156-5255b5164584",
   "metadata": {},
   "outputs": [],
   "source": []
  },
  {
   "cell_type": "code",
   "execution_count": null,
   "id": "c11655f4-3e4c-4565-97ca-0777754f8226",
   "metadata": {},
   "outputs": [],
   "source": []
  }
 ],
 "metadata": {
  "kernelspec": {
   "display_name": "Pyhton (hiringBias)",
   "language": "python",
   "name": "hiringbias"
  },
  "language_info": {
   "codemirror_mode": {
    "name": "ipython",
    "version": 3
   },
   "file_extension": ".py",
   "mimetype": "text/x-python",
   "name": "python",
   "nbconvert_exporter": "python",
   "pygments_lexer": "ipython3",
   "version": "3.11.11"
  }
 },
 "nbformat": 4,
 "nbformat_minor": 5
}
